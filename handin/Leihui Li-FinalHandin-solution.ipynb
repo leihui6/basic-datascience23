{
 "cells": [
  {
   "cell_type": "markdown",
   "id": "piano-communication",
   "metadata": {},
   "source": [
    "# Basic Data Science in Python - Project\n",
    "## Leihui Li; leihui@mpe.au.dk ##\n",
    "\n",
    "This handin is indiviual and mandatory to pass the course.\n",
    "\n",
    "Hand in this .ipynb file, no later than 10/11 kl 23:59. "
   ]
  },
  {
   "cell_type": "markdown",
   "id": "loved-cincinnati",
   "metadata": {},
   "source": [
    "### Project description\n",
    "For this project, you have almost no limitations. You are going to be working with a [smoke detection dataset](https://www.hackster.io/stefanblattmann/real-time-smoke-detection-with-ai-based-sensor-fusion-1086e6), to classify a fire alarm. The dataset is located in the data folder, as $\\texttt{smoke\\_detection.csv} $.\n",
    "\n",
    "Remember before you begin, to inspect the data - i.e does it need cleaning, what are you working with? Also, remember to seperate the dataset in two - the labels (\"Fire Alarm\"), and the rest of the data.\n",
    "\n",
    "Concretely, you should use your knowledge of testing, overfitting, and the pros and cons of different models, to predict Fire Alarm (0 for no alarm, 1 for alarm) from the different air quality measures. Try at least two different methods. You must reason about your choice of methods, as well as evaluate your results. Can you visualize your results somehow?"
   ]
  },
  {
   "cell_type": "code",
   "execution_count": 11,
   "id": "handmade-drove",
   "metadata": {},
   "outputs": [],
   "source": [
    "import random\n",
    "import numpy as np\n",
    "import pandas as pd\n",
    "import matplotlib.pyplot as plt\n",
    "from sklearn.model_selection import train_test_split"
   ]
  },
  {
   "cell_type": "code",
   "execution_count": 2,
   "id": "7eeeac9f",
   "metadata": {},
   "outputs": [
    {
     "name": "stdout",
     "output_type": "stream",
     "text": [
      "<bound method NDFrame.head of        Unnamed: 0         UTC  Temperature[C]  Humidity[%]  TVOC[ppb]  \\\n",
      "0               0  1654733331          20.000        57.36          0   \n",
      "1               1  1654733332          20.015        56.67          0   \n",
      "2               2  1654733333          20.029        55.96          0   \n",
      "3               3  1654733334          20.044        55.28          0   \n",
      "4               4  1654733335          20.059        54.69          0   \n",
      "...           ...         ...             ...          ...        ...   \n",
      "62625       62625  1655130047          18.438        15.79        625   \n",
      "62626       62626  1655130048          18.653        15.87        612   \n",
      "62627       62627  1655130049          18.867        15.84        627   \n",
      "62628       62628  1655130050          19.083        16.04        638   \n",
      "62629       62629  1655130051          19.299        16.52        643   \n",
      "\n",
      "       eCO2[ppm]  Raw H2  Raw Ethanol  Pressure[hPa]  PM1.0  PM2.5  NC0.5  \\\n",
      "0            400   12306        18520        939.735   0.00   0.00   0.00   \n",
      "1            400   12345        18651        939.744   0.00   0.00   0.00   \n",
      "2            400   12374        18764        939.738   0.00   0.00   0.00   \n",
      "3            400   12390        18849        939.736   0.00   0.00   0.00   \n",
      "4            400   12403        18921        939.744   0.00   0.00   0.00   \n",
      "...          ...     ...          ...            ...    ...    ...    ...   \n",
      "62625        400   13723        20569        936.670   0.63   0.65   4.32   \n",
      "62626        400   13731        20588        936.678   0.61   0.63   4.18   \n",
      "62627        400   13725        20582        936.687   0.57   0.60   3.95   \n",
      "62628        400   13712        20566        936.680   0.57   0.59   3.92   \n",
      "62629        400   13696        20543        936.676   0.57   0.59   3.90   \n",
      "\n",
      "       NC1.0  NC2.5   CNT  Fire Alarm  \n",
      "0      0.000  0.000     0           0  \n",
      "1      0.000  0.000     1           0  \n",
      "2      0.000  0.000     2           0  \n",
      "3      0.000  0.000     3           0  \n",
      "4      0.000  0.000     4           0  \n",
      "...      ...    ...   ...         ...  \n",
      "62625  0.673  0.015  5739           0  \n",
      "62626  0.652  0.015  5740           0  \n",
      "62627  0.617  0.014  5741           0  \n",
      "62628  0.611  0.014  5742           0  \n",
      "62629  0.607  0.014  5743           0  \n",
      "\n",
      "[62630 rows x 16 columns]>\n"
     ]
    }
   ],
   "source": [
    "csv_data = pd.read_csv('../data/smoke_detection.csv')\n",
    "print (csv_data.head)\n",
    "features, labels = csv_data.iloc[:, :-1].to_numpy(), csv_data.iloc[:,-1].to_numpy().reshape(-1,1)"
   ]
  },
  {
   "cell_type": "code",
   "execution_count": 13,
   "id": "458a1ef7",
   "metadata": {},
   "outputs": [
    {
     "ename": "SyntaxError",
     "evalue": "f-string: closing parenthesis '}' does not match opening parenthesis '(' (2273181615.py, line 29)",
     "output_type": "error",
     "traceback": [
      "\u001b[1;36m  Cell \u001b[1;32mIn [13], line 29\u001b[1;36m\u001b[0m\n\u001b[1;33m    print (f\"Predict Result:\\n{clf_model.predict(X_test[x_i].reshape(1, -item()}\")\u001b[0m\n\u001b[1;37m                                                                                 ^\u001b[0m\n\u001b[1;31mSyntaxError\u001b[0m\u001b[1;31m:\u001b[0m f-string: closing parenthesis '}' does not match opening parenthesis '('\n"
     ]
    }
   ],
   "source": [
    "print (features.shape, labels.shape, type(features), type(labels))\n",
    "\n",
    "# build a dataset class\n",
    "from sklearn import tree\n",
    "np.set_printoptions(precision=3, suppress=True)\n",
    "\n",
    "X, y = features.copy(), labels.copy()\n",
    "X_train, X_test, y_train, y_test = train_test_split(X, y, test_size=0.25, random_state=42)\n",
    "\n",
    "print (X_train.shape, X_test.shape)\n",
    "print (X_train[0].tolist(),'\\n', X_train[0].tolist())\n",
    "\n",
    "clf_model = tree.DecisionTreeClassifier(\n",
    "    criterion='entropy', \n",
    "    splitter = 'random', \n",
    "    random_state=42, \n",
    "    max_depth=6,\n",
    "    #min_impurity_decrease = 0.01,\n",
    "    min_samples_leaf=1,\n",
    "    min_samples_split=2)\n",
    "clf_model = clf_model.fit(X_train, y_train)\n",
    "clf_score_sample, clf_score_test = clf_model.score(X_train,y_train), clf_model.score(X_test,y_test)     \n",
    "#     print (clf_model.get_params())\n",
    "print (f\"sampe score: {clf_score_sample} test score: {clf_score_test}\")\n",
    "\n",
    "x_i = random.randint(0, len(X_test))\n",
    "print (f\"we select the {x_i}th among the test data\")\n",
    "print (f\"Ground Truth:\\n{X_test[x_i].tolist()} -> {y_test[x_i]}\")\n",
    "print (f\"Predict Result:\\n{clf_model.predict(X_test[x_i].reshape(1, -item()}\")\n",
    "\n",
    "# test using some simple methods\n",
    "\n",
    "# use machine learning to classifiy"
   ]
  },
  {
   "cell_type": "markdown",
   "id": "representative-confirmation",
   "metadata": {},
   "source": [
    "##### Your thougths and reflections here"
   ]
  }
 ],
 "metadata": {
  "kernelspec": {
   "display_name": "Python 3 (ipykernel)",
   "language": "python",
   "name": "python3"
  },
  "language_info": {
   "codemirror_mode": {
    "name": "ipython",
    "version": 3
   },
   "file_extension": ".py",
   "mimetype": "text/x-python",
   "name": "python",
   "nbconvert_exporter": "python",
   "pygments_lexer": "ipython3",
   "version": "3.9.13"
  }
 },
 "nbformat": 4,
 "nbformat_minor": 5
}
